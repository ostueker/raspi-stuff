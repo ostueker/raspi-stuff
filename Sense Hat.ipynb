{
 "metadata": {
  "name": "",
  "signature": "sha256:54348b3b440a4c2293591b592f75809c3db387405b6fde20c05e3c52195baf98"
 },
 "nbformat": 3,
 "nbformat_minor": 0,
 "worksheets": [
  {
   "cells": [
    {
     "cell_type": "code",
     "collapsed": false,
     "input": [
      "from random import randint\n",
      "from sense_hat import SenseHat\n",
      "sense = SenseHat()\n",
      "sense.rotation = 90"
     ],
     "language": "python",
     "metadata": {},
     "outputs": [],
     "prompt_number": 1
    },
    {
     "cell_type": "markdown",
     "metadata": {},
     "source": [
      "## Scroll text"
     ]
    },
    {
     "cell_type": "code",
     "collapsed": false,
     "input": [
      "for i in range(3):\n",
      "    if i%3 == 1:\n",
      "        r,g,b = 255, 0, 0\n",
      "    elif i%3 == 2:\n",
      "        r,g,b = 0, 255, 0\n",
      "    else:\n",
      "        r,g,b = 0, 0, 255\n",
      "\n",
      "    sense.show_message(\"Hello World!\", text_colour=(r, g, b))\n",
      "\n",
      "sense.clear()"
     ],
     "language": "python",
     "metadata": {},
     "outputs": [],
     "prompt_number": 2
    },
    {
     "cell_type": "markdown",
     "metadata": {},
     "source": [
      "## Blastoff"
     ]
    },
    {
     "cell_type": "code",
     "collapsed": false,
     "input": [
      "import time\n",
      "\n",
      "for i in range(9, 0, -1):\n",
      "    sense.show_letter(str(i))\n",
      "    time.sleep(0.5)\n",
      "\n",
      "sense.show_message(\"Blastoff!!!\", text_colour=(255, 0, 0), scroll_speed=0.03)"
     ],
     "language": "python",
     "metadata": {},
     "outputs": [],
     "prompt_number": 43
    },
    {
     "cell_type": "markdown",
     "metadata": {},
     "source": [
      "## Random Colors"
     ]
    },
    {
     "cell_type": "code",
     "collapsed": false,
     "input": [
      "for i in range(250):\n",
      "    for x in range(8):\n",
      "        for y in range(8):\n",
      "            color = [ randint(0, 255), randint(0, 255), randint(0, 255)]\n",
      "            sense.set_pixel(x, y, color)\n",
      "sense.clear()"
     ],
     "language": "python",
     "metadata": {},
     "outputs": [],
     "prompt_number": 18
    },
    {
     "cell_type": "markdown",
     "metadata": {},
     "source": [
      "## Horizontal random colors"
     ]
    },
    {
     "cell_type": "code",
     "collapsed": false,
     "input": [
      "# Horizontal\n",
      "for i in range(250):\n",
      "    for y in range(8):\n",
      "        color = [ randint(0, 255), randint(0, 255), randint(0, 255)]\n",
      "        for x in range(8):\n",
      "            sense.set_pixel(x, y, color)\n",
      "sense.clear()"
     ],
     "language": "python",
     "metadata": {},
     "outputs": [],
     "prompt_number": 19
    },
    {
     "cell_type": "markdown",
     "metadata": {},
     "source": [
      "## Diagonal\n",
      "```\n",
      "(0,0)\n",
      "(0,1) (1,0)\n",
      "(0,2) (1,1) (2,0)\n",
      "```"
     ]
    },
    {
     "cell_type": "code",
     "collapsed": false,
     "input": [
      "# Diagonal /\n",
      "for i in range(250):\n",
      "    for c in range(16):\n",
      "        color = [ randint(0, 255), randint(0, 255), randint(0, 255)]\n",
      "        for x in range(8):\n",
      "            for y in range(8):\n",
      "                if x+y == c:\n",
      "                    sense.set_pixel(x, y, color)\n",
      "sense.clear()"
     ],
     "language": "python",
     "metadata": {},
     "outputs": [],
     "prompt_number": 20
    },
    {
     "cell_type": "code",
     "collapsed": false,
     "input": [
      "# Diagonal \\\n",
      "for i in range(250):\n",
      "    for c in range(16):\n",
      "        color = [ randint(0, 255), randint(0, 255), randint(0, 255)]\n",
      "        for x in range(8):\n",
      "            for y in range(8):\n",
      "                if x+(7-y) == c:\n",
      "                    sense.set_pixel(x, y, color)\n",
      "sense.clear()"
     ],
     "language": "python",
     "metadata": {},
     "outputs": [],
     "prompt_number": 21
    },
    {
     "cell_type": "code",
     "collapsed": false,
     "input": [
      "sense.rotation=90\n",
      "for i in range(2):\n",
      "    temp = sense.get_temperature()\n",
      "    sense.show_message(\"Temp: %4.1fC\"%temp, text_colour=(255, 0, 0), scroll_speed=0.05)\n",
      "    time.sleep(1)"
     ],
     "language": "python",
     "metadata": {},
     "outputs": [],
     "prompt_number": 42
    },
    {
     "cell_type": "code",
     "collapsed": false,
     "input": [],
     "language": "python",
     "metadata": {},
     "outputs": []
    }
   ],
   "metadata": {}
  }
 ]
}