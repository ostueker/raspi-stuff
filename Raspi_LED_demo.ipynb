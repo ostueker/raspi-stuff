{
 "metadata": {
  "name": "",
  "signature": "sha256:2be1c0f5063fb3f01485af5e1a461c1bf3c87b7a4a65a03ae9677e362c1e7038"
 },
 "nbformat": 3,
 "nbformat_minor": 0,
 "worksheets": [
  {
   "cells": [
    {
     "cell_type": "markdown",
     "metadata": {},
     "source": [
      "# RasberryPi LED demo"
     ]
    },
    {
     "cell_type": "markdown",
     "metadata": {},
     "source": [
      "## 1. Blinking Red LED"
     ]
    },
    {
     "cell_type": "code",
     "collapsed": false,
     "input": [
      "#!/usr/bin/python\n",
      "import RPi.GPIO as GPIO\n",
      "import time\n",
      "\n",
      "# map colors to GPIO pins\n",
      "red   = 17 \n",
      "\n",
      "# delay in seconds:\n",
      "delay = 0.5\n",
      "\n",
      "GPIO.setmode(GPIO.BCM)\n",
      "GPIO.setwarnings(False)\n",
      "GPIO.setup(red,    GPIO.OUT)\n",
      "\n",
      "for i in range(60):\n",
      "    if   i%2 == 0:\n",
      "        GPIO.output(red,    True)\n",
      "    else:\n",
      "        GPIO.output(red,  False)\n",
      "    time.sleep(delay)\n"
     ],
     "language": "python",
     "metadata": {},
     "outputs": [],
     "prompt_number": 1
    },
    {
     "cell_type": "markdown",
     "metadata": {},
     "source": [
      "## 2. Blinking Red/Green"
     ]
    },
    {
     "cell_type": "code",
     "collapsed": false,
     "input": [
      "#!/usr/bin/python\n",
      "import RPi.GPIO as GPIO\n",
      "import time\n",
      "\n",
      "# map colors to GPIO pins\n",
      "red   = 17 \n",
      "green = 18\n",
      "\n",
      "# delay in seconds:\n",
      "delay = 0.5\n",
      "\n",
      "GPIO.setmode(GPIO.BCM)\n",
      "GPIO.setwarnings(False)\n",
      "GPIO.setup(red,    GPIO.OUT)\n",
      "GPIO.setup(green,  GPIO.OUT)\n",
      "\n",
      "for i in range(60):\n",
      "    GPIO.output(red,    False)\n",
      "    GPIO.output(green,  False)\n",
      "    if   i%2 == 0:\n",
      "        GPIO.output(red,    True)\n",
      "    else:\n",
      "        GPIO.output(green,  True)\n",
      "    time.sleep(delay)"
     ],
     "language": "python",
     "metadata": {},
     "outputs": [],
     "prompt_number": 2
    },
    {
     "cell_type": "markdown",
     "metadata": {},
     "source": [
      "### 2.1 Turn lights off afterwards"
     ]
    },
    {
     "cell_type": "code",
     "collapsed": false,
     "input": [
      "#!/usr/bin/python\n",
      "import RPi.GPIO as GPIO\n",
      "import time\n",
      "\n",
      "# map colors to GPIO pins\n",
      "red   = 17 \n",
      "green = 18\n",
      "\n",
      "# delay in seconds:\n",
      "delay = 0.5\n",
      "\n",
      "GPIO.setmode(GPIO.BCM)\n",
      "GPIO.setwarnings(False)\n",
      "GPIO.setup(red,    GPIO.OUT)\n",
      "GPIO.setup(green,  GPIO.OUT)\n",
      "\n",
      "try:\n",
      "    for i in range(60):\n",
      "        GPIO.output(red,    False)\n",
      "        GPIO.output(green,  False)\n",
      "        if   i%2 == 0:\n",
      "            GPIO.output(red,    True)\n",
      "        else:\n",
      "            GPIO.output(green,  True)\n",
      "        time.sleep(delay)\n",
      "finally:\n",
      "    GPIO.output(red, False)\n",
      "    GPIO.output(green, False)\n"
     ],
     "language": "python",
     "metadata": {},
     "outputs": [],
     "prompt_number": 3
    },
    {
     "cell_type": "markdown",
     "metadata": {},
     "source": [
      "### 3. Blinking Red / Yellow / Green"
     ]
    },
    {
     "cell_type": "code",
     "collapsed": false,
     "input": [
      "#!/usr/bin/python\n",
      "import RPi.GPIO as GPIO\n",
      "import time\n",
      "\n",
      "# map colors to GPIO pins\n",
      "red   = 17 \n",
      "green = 18\n",
      "yellow= 19\n",
      "\n",
      "# delay in seconds:\n",
      "delay = 0.5\n",
      "\n",
      "GPIO.setmode(GPIO.BCM)\n",
      "GPIO.setwarnings(False)\n",
      "GPIO.setup(red,    GPIO.OUT)\n",
      "GPIO.setup(yellow, GPIO.OUT)\n",
      "GPIO.setup(green,  GPIO.OUT)\n",
      "\n",
      "try:\n",
      "    for i in range(60):\n",
      "        GPIO.output(red,    False)\n",
      "        GPIO.output(yellow, False)\n",
      "        GPIO.output(green,  False)\n",
      "        if   i%3 == 0:\n",
      "            GPIO.output(red,    True)\n",
      "        elif i%3 == 1:\n",
      "            GPIO.output(yellow, True)\n",
      "        else:\n",
      "            GPIO.output(green,  True)\n",
      "        time.sleep(delay)\n",
      "finally:\n",
      "    GPIO.output(red, False)\n",
      "    GPIO.output(yellow, False)\n",
      "    GPIO.output(green, False)"
     ],
     "language": "python",
     "metadata": {},
     "outputs": [
      {
       "ename": "KeyboardInterrupt",
       "evalue": "",
       "output_type": "pyerr",
       "traceback": [
        "\u001b[0;31m---------------------------------------------------------------------------\u001b[0m\n\u001b[0;31mKeyboardInterrupt\u001b[0m                         Traceback (most recent call last)",
        "\u001b[0;32m<ipython-input-4-f8c7cc8a6853>\u001b[0m in \u001b[0;36m<module>\u001b[0;34m()\u001b[0m\n\u001b[1;32m     28\u001b[0m         \u001b[0;32melse\u001b[0m\u001b[0;34m:\u001b[0m\u001b[0;34m\u001b[0m\u001b[0m\n\u001b[1;32m     29\u001b[0m             \u001b[0mGPIO\u001b[0m\u001b[0;34m.\u001b[0m\u001b[0moutput\u001b[0m\u001b[0;34m(\u001b[0m\u001b[0mgreen\u001b[0m\u001b[0;34m,\u001b[0m  \u001b[0mTrue\u001b[0m\u001b[0;34m)\u001b[0m\u001b[0;34m\u001b[0m\u001b[0m\n\u001b[0;32m---> 30\u001b[0;31m         \u001b[0mtime\u001b[0m\u001b[0;34m.\u001b[0m\u001b[0msleep\u001b[0m\u001b[0;34m(\u001b[0m\u001b[0mdelay\u001b[0m\u001b[0;34m)\u001b[0m\u001b[0;34m\u001b[0m\u001b[0m\n\u001b[0m\u001b[1;32m     31\u001b[0m \u001b[0;32mfinally\u001b[0m\u001b[0;34m:\u001b[0m\u001b[0;34m\u001b[0m\u001b[0m\n\u001b[1;32m     32\u001b[0m     \u001b[0mGPIO\u001b[0m\u001b[0;34m.\u001b[0m\u001b[0moutput\u001b[0m\u001b[0;34m(\u001b[0m\u001b[0mred\u001b[0m\u001b[0;34m,\u001b[0m \u001b[0mFalse\u001b[0m\u001b[0;34m)\u001b[0m\u001b[0;34m\u001b[0m\u001b[0m\n",
        "\u001b[0;31mKeyboardInterrupt\u001b[0m: "
       ]
      }
     ],
     "prompt_number": 4
    },
    {
     "cell_type": "markdown",
     "metadata": {},
     "source": [
      "## 4. Control LED with push-button"
     ]
    },
    {
     "cell_type": "code",
     "collapsed": false,
     "input": [
      "import RPi.GPIO as GPIO\n",
      "import time\n",
      "\n",
      "red  = 17\n",
      "btn1 = 12\n",
      "\n",
      "duration = 30\n",
      "start = time.time()\n",
      "end = start + duration\n",
      "\n",
      "GPIO.setwarnings(False)\n",
      "GPIO.setmode(GPIO.BCM)\n",
      "GPIO.setup(red, GPIO.OUT)\n",
      "GPIO.setup(btn1,GPIO.IN)\n",
      "\n",
      "# input of the switch will change the state of the LED\n",
      "\n",
      "while True:\n",
      "    GPIO.output(red, GPIO.input(btn1))\n",
      "    time.sleep(0.05)\n",
      "    if time.time() >= end:\n",
      "        break"
     ],
     "language": "python",
     "metadata": {},
     "outputs": [],
     "prompt_number": 5
    },
    {
     "cell_type": "code",
     "collapsed": false,
     "input": [],
     "language": "python",
     "metadata": {},
     "outputs": []
    }
   ],
   "metadata": {}
  }
 ]
}